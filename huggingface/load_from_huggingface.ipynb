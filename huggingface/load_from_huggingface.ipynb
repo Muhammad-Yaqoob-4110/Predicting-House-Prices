{
 "cells": [
  {
   "cell_type": "code",
   "execution_count": 10,
   "metadata": {},
   "outputs": [],
   "source": [
    "from huggingface_hub import hf_hub_download\n",
    "import joblib\n",
    "import xgboost as xgb\n",
    "import pandas as pd\n",
    "\n",
    "# Define the repository ID\n",
    "repo_id = \"M-Yaqoob/finetune-xgboost\"\n",
    "\n",
    "# Define filenames in the repo\n",
    "model_filename = \"fine-tune_xgboost_model.pkl\"\n",
    "preprocessor_filename = \"preprocessor.pkl\"\n",
    "\n",
    "# Download the model and preprocessor\n",
    "model_path = hf_hub_download(repo_id, model_filename)\n",
    "preprocessor_path = hf_hub_download(repo_id, preprocessor_filename)\n",
    "\n",
    "# Load the model\n",
    "model = joblib.load(model_path)\n",
    "\n",
    "# Load the preprocessor\n",
    "preprocessor = joblib.load(preprocessor_path)"
   ]
  },
  {
   "cell_type": "code",
   "execution_count": 12,
   "metadata": {},
   "outputs": [
    {
     "name": "stdout",
     "output_type": "stream",
     "text": [
      "<class 'sklearn.compose._column_transformer.ColumnTransformer'>\n"
     ]
    }
   ],
   "source": [
    "print(type(preprocessor))"
   ]
  },
  {
   "cell_type": "code",
   "execution_count": 19,
   "metadata": {},
   "outputs": [],
   "source": [
    "# Load your test data\n",
    "test_data = pd.read_csv('../Dataset/test.csv')"
   ]
  },
  {
   "cell_type": "code",
   "execution_count": 20,
   "metadata": {},
   "outputs": [],
   "source": [
    "import numpy as np\n",
    "\n",
    "# Predict house prices\n",
    "predictions = model.predict(test_data)\n",
    "predictions = np.expm1(predictions)"
   ]
  },
  {
   "cell_type": "code",
   "execution_count": 21,
   "metadata": {},
   "outputs": [],
   "source": [
    "# Create a DataFrame for submission\n",
    "submission = pd.DataFrame({'Id': test_data['Id'], 'SalePrice': predictions})\n",
    "\n",
    "# Save to CSV\n",
    "submission.to_csv('submission.csv', index=False)\n"
   ]
  }
 ],
 "metadata": {
  "kernelspec": {
   "display_name": "Python 3",
   "language": "python",
   "name": "python3"
  },
  "language_info": {
   "codemirror_mode": {
    "name": "ipython",
    "version": 3
   },
   "file_extension": ".py",
   "mimetype": "text/x-python",
   "name": "python",
   "nbconvert_exporter": "python",
   "pygments_lexer": "ipython3",
   "version": "3.12.1"
  }
 },
 "nbformat": 4,
 "nbformat_minor": 2
}
